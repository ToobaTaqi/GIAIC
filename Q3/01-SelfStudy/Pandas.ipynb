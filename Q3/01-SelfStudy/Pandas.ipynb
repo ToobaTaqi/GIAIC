{
 "cells": [
  {
   "cell_type": "markdown",
   "id": "76305cb3",
   "metadata": {},
   "source": [
    "Pandas large data sets ko handle krne k lye use hota h"
   ]
  },
  {
   "cell_type": "code",
   "execution_count": 4,
   "id": "b76bcd00",
   "metadata": {},
   "outputs": [
    {
     "name": "stdout",
     "output_type": "stream",
     "text": [
      "Introduction to python pandas\n"
     ]
    }
   ],
   "source": [
    "\n",
    "print(\"Introduction to python pandas\")"
   ]
  },
  {
   "cell_type": "markdown",
   "id": "4cf03a41",
   "metadata": {},
   "source": [
    "Pandas k andr 2 trha k key structures hote heyn\n",
    "1- Series (labelled list)\n",
    "2- DataFrames(2 dimensional data structures)\n",
    "video https://www.youtube.com/watch?v=E9WGC0SLPVs&list=PPSV&t=15s\n",
    "time 10:06"
   ]
  }
 ],
 "metadata": {
  "kernelspec": {
   "display_name": "Python 3",
   "language": "python",
   "name": "python3"
  },
  "language_info": {
   "codemirror_mode": {
    "name": "ipython",
    "version": 3
   },
   "file_extension": ".py",
   "mimetype": "text/x-python",
   "name": "python",
   "nbconvert_exporter": "python",
   "pygments_lexer": "ipython3",
   "version": "3.13.2"
  }
 },
 "nbformat": 4,
 "nbformat_minor": 5
}
